{
 "cells": [
  {
   "cell_type": "code",
   "execution_count": 2,
   "id": "b8b83c5b-5e09-45e6-a050-83102ae5d7dd",
   "metadata": {},
   "outputs": [],
   "source": [
    "#import dependencies\n",
    "from math import ceil\n",
    "import numpy as np\n",
    "import pandas as pd\n",
    "import matplotlib.pyplot as plt\n",
    "import re\n",
    "import contractions\n",
    "import gensim.downloader as api\n",
    "import nltk\n",
    "from nltk.tokenize import word_tokenize\n",
    "from nltk.corpus import stopwords\n",
    "from nltk.stem import WordNetLemmatizer\n",
    "import torch\n",
    "import torch.nn as nn\n",
    "from torch.nn.utils.rnn import pad_sequence, pack_padded_sequence, pad_packed_sequence\n",
    "from torch.utils.data import Dataset, DataLoader\n",
    "from sklearn.metrics import classification_report\n",
    "from sklearn.metrics import confusion_matrix, ConfusionMatrixDisplay\n",
    "from torchinfo import summary"
   ]
  },
  {
   "cell_type": "code",
   "execution_count": 2,
   "id": "04c80018-ca8e-4aec-b6e4-b3c43747d4cf",
   "metadata": {},
   "outputs": [
    {
     "name": "stderr",
     "output_type": "stream",
     "text": [
      "[nltk_data] Downloading package punkt to\n",
      "[nltk_data]     C:\\Users\\Hardik\\AppData\\Roaming\\nltk_data...\n",
      "[nltk_data]   Package punkt is already up-to-date!\n",
      "[nltk_data] Downloading package punkt_tab to\n",
      "[nltk_data]     C:\\Users\\Hardik\\AppData\\Roaming\\nltk_data...\n",
      "[nltk_data]   Package punkt_tab is already up-to-date!\n",
      "[nltk_data] Downloading package stopwords to\n",
      "[nltk_data]     C:\\Users\\Hardik\\AppData\\Roaming\\nltk_data...\n",
      "[nltk_data]   Package stopwords is already up-to-date!\n",
      "[nltk_data] Downloading package wordnet to\n",
      "[nltk_data]     C:\\Users\\Hardik\\AppData\\Roaming\\nltk_data...\n",
      "[nltk_data]   Package wordnet is already up-to-date!\n"
     ]
    },
    {
     "data": {
      "text/plain": [
       "True"
      ]
     },
     "execution_count": 2,
     "metadata": {},
     "output_type": "execute_result"
    }
   ],
   "source": [
    "nltk.download('punkt')\n",
    "nltk.download('punkt_tab')\n",
    "nltk.download('stopwords')\n",
    "nltk.download('wordnet')"
   ]
  },
  {
   "cell_type": "markdown",
   "id": "e3fff201-42d8-495e-8f5a-4fdd5cc91726",
   "metadata": {},
   "source": [
    "# Data Pre-Processing"
   ]
  },
  {
   "cell_type": "code",
   "execution_count": 3,
   "id": "337cfafe-a343-4a5c-a866-fdc7afa7f255",
   "metadata": {},
   "outputs": [],
   "source": [
    "#load train and test dataset\n",
    "train_ds = pd.read_csv('train.csv')\n",
    "test_ds = pd.read_csv('test.csv')"
   ]
  },
  {
   "cell_type": "code",
   "execution_count": 3,
   "id": "042a4bca-3e50-4428-9df6-e2b63faf407d",
   "metadata": {},
   "outputs": [
    {
     "data": {
      "text/html": [
       "<div>\n",
       "<style scoped>\n",
       "    .dataframe tbody tr th:only-of-type {\n",
       "        vertical-align: middle;\n",
       "    }\n",
       "\n",
       "    .dataframe tbody tr th {\n",
       "        vertical-align: top;\n",
       "    }\n",
       "\n",
       "    .dataframe thead th {\n",
       "        text-align: right;\n",
       "    }\n",
       "</style>\n",
       "<table border=\"1\" class=\"dataframe\">\n",
       "  <thead>\n",
       "    <tr style=\"text-align: right;\">\n",
       "      <th></th>\n",
       "      <th>2</th>\n",
       "      <th>Stuning even for the non-gamer</th>\n",
       "      <th>This sound track was beautiful! It paints the senery in your mind so well I would recomend it even to people who hate vid. game music! I have played the game Chrono Cross but out of all of the games I have ever played it has the best music! It backs away from crude keyboarding and takes a fresher step with grate guitars and soulful orchestras. It would impress anyone who cares to listen! ^_^</th>\n",
       "    </tr>\n",
       "  </thead>\n",
       "  <tbody>\n",
       "    <tr>\n",
       "      <th>0</th>\n",
       "      <td>2</td>\n",
       "      <td>The best soundtrack ever to anything.</td>\n",
       "      <td>I'm reading a lot of reviews saying that this ...</td>\n",
       "    </tr>\n",
       "    <tr>\n",
       "      <th>1</th>\n",
       "      <td>2</td>\n",
       "      <td>Amazing!</td>\n",
       "      <td>This soundtrack is my favorite music of all ti...</td>\n",
       "    </tr>\n",
       "    <tr>\n",
       "      <th>2</th>\n",
       "      <td>2</td>\n",
       "      <td>Excellent Soundtrack</td>\n",
       "      <td>I truly like this soundtrack and I enjoy video...</td>\n",
       "    </tr>\n",
       "    <tr>\n",
       "      <th>3</th>\n",
       "      <td>2</td>\n",
       "      <td>Remember, Pull Your Jaw Off The Floor After He...</td>\n",
       "      <td>If you've played the game, you know how divine...</td>\n",
       "    </tr>\n",
       "    <tr>\n",
       "      <th>4</th>\n",
       "      <td>2</td>\n",
       "      <td>an absolute masterpiece</td>\n",
       "      <td>I am quite sure any of you actually taking the...</td>\n",
       "    </tr>\n",
       "  </tbody>\n",
       "</table>\n",
       "</div>"
      ],
      "text/plain": [
       "   2                     Stuning even for the non-gamer  \\\n",
       "0  2              The best soundtrack ever to anything.   \n",
       "1  2                                           Amazing!   \n",
       "2  2                               Excellent Soundtrack   \n",
       "3  2  Remember, Pull Your Jaw Off The Floor After He...   \n",
       "4  2                            an absolute masterpiece   \n",
       "\n",
       "  This sound track was beautiful! It paints the senery in your mind so well I would recomend it even to people who hate vid. game music! I have played the game Chrono Cross but out of all of the games I have ever played it has the best music! It backs away from crude keyboarding and takes a fresher step with grate guitars and soulful orchestras. It would impress anyone who cares to listen! ^_^  \n",
       "0  I'm reading a lot of reviews saying that this ...                                                                                                                                                                                                                                                                                                                                                          \n",
       "1  This soundtrack is my favorite music of all ti...                                                                                                                                                                                                                                                                                                                                                          \n",
       "2  I truly like this soundtrack and I enjoy video...                                                                                                                                                                                                                                                                                                                                                          \n",
       "3  If you've played the game, you know how divine...                                                                                                                                                                                                                                                                                                                                                          \n",
       "4  I am quite sure any of you actually taking the...                                                                                                                                                                                                                                                                                                                                                          "
      ]
     },
     "execution_count": 3,
     "metadata": {},
     "output_type": "execute_result"
    }
   ],
   "source": [
    "train_ds.head()"
   ]
  },
  {
   "cell_type": "code",
   "execution_count": 4,
   "id": "47a6345e-9048-4bac-9da4-207108bfc5de",
   "metadata": {},
   "outputs": [],
   "source": [
    "#one record is mistakenly recorded as the column indexes\n",
    "\n",
    "n_record = list(train_ds.columns) #store column indexes as a record\n",
    "train_ds.rename(columns = {n_record[0] : 'polarity', n_record[1] : 'title' , n_record[2] : 'review'}, inplace = True) #rename columns\n",
    "n_record[0] = int(n_record[0]) #convert the polarity entry to int\n",
    "train_ds.loc[len(train_ds)] = n_record #insert new record"
   ]
  },
  {
   "cell_type": "code",
   "execution_count": 5,
   "id": "941bce88-4030-4a5b-a98e-ae62227534e8",
   "metadata": {},
   "outputs": [
    {
     "name": "stdout",
     "output_type": "stream",
     "text": [
      "<class 'pandas.core.frame.DataFrame'>\n",
      "Index: 3600000 entries, 0 to 3599999\n",
      "Data columns (total 3 columns):\n",
      " #   Column    Dtype \n",
      "---  ------    ----- \n",
      " 0   polarity  int64 \n",
      " 1   title     object\n",
      " 2   review    object\n",
      "dtypes: int64(1), object(2)\n",
      "memory usage: 109.9+ MB\n"
     ]
    }
   ],
   "source": [
    "train_ds.info()"
   ]
  },
  {
   "cell_type": "code",
   "execution_count": 6,
   "id": "862d2b66-56ae-4858-ae34-83d83b2b32b5",
   "metadata": {},
   "outputs": [
    {
     "data": {
      "text/plain": [
       "polarity      0\n",
       "title       207\n",
       "review        0\n",
       "dtype: int64"
      ]
     },
     "execution_count": 6,
     "metadata": {},
     "output_type": "execute_result"
    }
   ],
   "source": [
    "#check for null records\n",
    "train_ds.isnull().sum()"
   ]
  },
  {
   "cell_type": "code",
   "execution_count": 7,
   "id": "1a4cc3c9-d40a-40e4-8d26-726ac06a15e6",
   "metadata": {},
   "outputs": [
    {
     "name": "stderr",
     "output_type": "stream",
     "text": [
      "C:\\Users\\Hardik\\AppData\\Local\\Temp\\ipykernel_18552\\2774230899.py:2: FutureWarning: A value is trying to be set on a copy of a DataFrame or Series through chained assignment using an inplace method.\n",
      "The behavior will change in pandas 3.0. This inplace method will never work because the intermediate object on which we are setting values always behaves as a copy.\n",
      "\n",
      "For example, when doing 'df[col].method(value, inplace=True)', try using 'df.method({col: value}, inplace=True)' or df[col] = df[col].method(value) instead, to perform the operation inplace on the original object.\n",
      "\n",
      "\n",
      "  train_ds['title'].fillna('', inplace = True)\n"
     ]
    }
   ],
   "source": [
    "#fill null records with empty strings\n",
    "train_ds['title'].fillna('', inplace = True)"
   ]
  },
  {
   "cell_type": "code",
   "execution_count": 8,
   "id": "83220938-dfb4-4103-bc6c-93ae58f6c472",
   "metadata": {},
   "outputs": [],
   "source": [
    "#combine title and review columns\n",
    "train_ds['review'] = train_ds['title'] + '. ' + train_ds['review']\n",
    "train_ds = train_ds.drop('title', axis = 1)"
   ]
  },
  {
   "cell_type": "code",
   "execution_count": 23,
   "id": "c1adf716-c1ee-4c63-9e49-436000bbceea",
   "metadata": {},
   "outputs": [],
   "source": [
    "#convert polarity from 1&2 to 0&1\n",
    "train_ds['polarity'] = train_ds['polarity'] - 1"
   ]
  },
  {
   "cell_type": "code",
   "execution_count": 24,
   "id": "c6005de0-db37-487f-a29f-cf050c319d90",
   "metadata": {},
   "outputs": [
    {
     "data": {
      "text/html": [
       "<div>\n",
       "<style scoped>\n",
       "    .dataframe tbody tr th:only-of-type {\n",
       "        vertical-align: middle;\n",
       "    }\n",
       "\n",
       "    .dataframe tbody tr th {\n",
       "        vertical-align: top;\n",
       "    }\n",
       "\n",
       "    .dataframe thead th {\n",
       "        text-align: right;\n",
       "    }\n",
       "</style>\n",
       "<table border=\"1\" class=\"dataframe\">\n",
       "  <thead>\n",
       "    <tr style=\"text-align: right;\">\n",
       "      <th></th>\n",
       "      <th>polarity</th>\n",
       "      <th>review</th>\n",
       "    </tr>\n",
       "  </thead>\n",
       "  <tbody>\n",
       "    <tr>\n",
       "      <th>0</th>\n",
       "      <td>1</td>\n",
       "      <td>The best soundtrack ever to anything.. I'm rea...</td>\n",
       "    </tr>\n",
       "    <tr>\n",
       "      <th>1</th>\n",
       "      <td>1</td>\n",
       "      <td>Amazing!. This soundtrack is my favorite music...</td>\n",
       "    </tr>\n",
       "    <tr>\n",
       "      <th>2</th>\n",
       "      <td>1</td>\n",
       "      <td>Excellent Soundtrack. I truly like this soundt...</td>\n",
       "    </tr>\n",
       "    <tr>\n",
       "      <th>3</th>\n",
       "      <td>1</td>\n",
       "      <td>Remember, Pull Your Jaw Off The Floor After He...</td>\n",
       "    </tr>\n",
       "    <tr>\n",
       "      <th>4</th>\n",
       "      <td>1</td>\n",
       "      <td>an absolute masterpiece. I am quite sure any o...</td>\n",
       "    </tr>\n",
       "  </tbody>\n",
       "</table>\n",
       "</div>"
      ],
      "text/plain": [
       "   polarity                                             review\n",
       "0         1  The best soundtrack ever to anything.. I'm rea...\n",
       "1         1  Amazing!. This soundtrack is my favorite music...\n",
       "2         1  Excellent Soundtrack. I truly like this soundt...\n",
       "3         1  Remember, Pull Your Jaw Off The Floor After He...\n",
       "4         1  an absolute masterpiece. I am quite sure any o..."
      ]
     },
     "execution_count": 24,
     "metadata": {},
     "output_type": "execute_result"
    }
   ],
   "source": [
    "train_ds.head()"
   ]
  },
  {
   "cell_type": "code",
   "execution_count": 11,
   "id": "ca331f64-00da-4076-a0c4-0038153da37f",
   "metadata": {},
   "outputs": [
    {
     "name": "stderr",
     "output_type": "stream",
     "text": [
      "C:\\Users\\Hardik\\AppData\\Local\\Temp\\ipykernel_18552\\3673307785.py:6: FutureWarning: A value is trying to be set on a copy of a DataFrame or Series through chained assignment using an inplace method.\n",
      "The behavior will change in pandas 3.0. This inplace method will never work because the intermediate object on which we are setting values always behaves as a copy.\n",
      "\n",
      "For example, when doing 'df[col].method(value, inplace=True)', try using 'df.method({col: value}, inplace=True)' or df[col] = df[col].method(value) instead, to perform the operation inplace on the original object.\n",
      "\n",
      "\n",
      "  test_ds['title'].fillna('', inplace = True)\n"
     ]
    }
   ],
   "source": [
    "#repeating same process on test set\n",
    "n_record = list(test_ds.columns) \n",
    "test_ds.rename(columns = {n_record[0] : 'polarity', n_record[1] : 'title' , n_record[2] : 'review'}, inplace = True) \n",
    "n_record[0] = int(n_record[0])\n",
    "test_ds.loc[len(test_ds)] = n_record \n",
    "test_ds['title'].fillna('', inplace = True)\n",
    "test_ds['review'] = test_ds['title'] + '. ' + test_ds['review']\n",
    "test_ds = test_ds.drop('title', axis = 1)\n",
    "test_ds['polarity'] = test_ds['polarity'] - 1"
   ]
  },
  {
   "cell_type": "code",
   "execution_count": 26,
   "id": "6defbfa9-211a-40d8-ad37-e2a429f62b32",
   "metadata": {},
   "outputs": [
    {
     "data": {
      "text/html": [
       "<div>\n",
       "<style scoped>\n",
       "    .dataframe tbody tr th:only-of-type {\n",
       "        vertical-align: middle;\n",
       "    }\n",
       "\n",
       "    .dataframe tbody tr th {\n",
       "        vertical-align: top;\n",
       "    }\n",
       "\n",
       "    .dataframe thead th {\n",
       "        text-align: right;\n",
       "    }\n",
       "</style>\n",
       "<table border=\"1\" class=\"dataframe\">\n",
       "  <thead>\n",
       "    <tr style=\"text-align: right;\">\n",
       "      <th></th>\n",
       "      <th>polarity</th>\n",
       "      <th>review</th>\n",
       "    </tr>\n",
       "  </thead>\n",
       "  <tbody>\n",
       "    <tr>\n",
       "      <th>0</th>\n",
       "      <td>1</td>\n",
       "      <td>One of the best game music soundtracks - for a...</td>\n",
       "    </tr>\n",
       "    <tr>\n",
       "      <th>1</th>\n",
       "      <td>0</td>\n",
       "      <td>Batteries died within a year .... I bought thi...</td>\n",
       "    </tr>\n",
       "    <tr>\n",
       "      <th>2</th>\n",
       "      <td>1</td>\n",
       "      <td>works fine, but Maha Energy is better. Check o...</td>\n",
       "    </tr>\n",
       "    <tr>\n",
       "      <th>3</th>\n",
       "      <td>1</td>\n",
       "      <td>Great for the non-audiophile. Reviewed quite a...</td>\n",
       "    </tr>\n",
       "    <tr>\n",
       "      <th>4</th>\n",
       "      <td>0</td>\n",
       "      <td>DVD Player crapped out after one year. I also ...</td>\n",
       "    </tr>\n",
       "  </tbody>\n",
       "</table>\n",
       "</div>"
      ],
      "text/plain": [
       "   polarity                                             review\n",
       "0         1  One of the best game music soundtracks - for a...\n",
       "1         0  Batteries died within a year .... I bought thi...\n",
       "2         1  works fine, but Maha Energy is better. Check o...\n",
       "3         1  Great for the non-audiophile. Reviewed quite a...\n",
       "4         0  DVD Player crapped out after one year. I also ..."
      ]
     },
     "execution_count": 26,
     "metadata": {},
     "output_type": "execute_result"
    }
   ],
   "source": [
    "test_ds.head()"
   ]
  },
  {
   "cell_type": "code",
   "execution_count": 32,
   "id": "242870dc-1534-4c8e-ad25-1893305bc6af",
   "metadata": {},
   "outputs": [],
   "source": [
    "#helper function to preprocess text\n",
    "def preprocess(text):\n",
    "    \n",
    "    #expand contractions\n",
    "    text = contractions.fix(text)\n",
    "    #replace \\n with space\n",
    "    text = text.replace('\\\\n', ' ')\n",
    "    #remove html tags\n",
    "    text = re.sub('<[^>]*>', '', text)\n",
    "    #remove extra whitespaces\n",
    "    text = text.strip()\n",
    "    #remove non-alphabetic characters and lowercase the text\n",
    "    text = re.sub('[^a-zA-Z]', ' ', text).lower()\n",
    "    #tokenize test\n",
    "    tokens = word_tokenize(text)\n",
    "    #remove stopwords\n",
    "    s_words = set(stopwords.words('english'))\n",
    "    tokens = [token for token in tokens if token not in s_words]\n",
    "    #lemmatize the words\n",
    "    lemmatizer = WordNetLemmatizer()\n",
    "    tokens = [lemmatizer.lemmatize(token) for token in tokens]\n",
    "    #join preprocessed tokens\n",
    "    final_text = ' '.join(tokens)\n",
    "\n",
    "    return final_text"
   ]
  },
  {
   "cell_type": "code",
   "execution_count": 39,
   "id": "45890ae6-68d8-4008-9364-c6d362a74827",
   "metadata": {},
   "outputs": [
    {
     "data": {
      "text/html": [
       "<div>\n",
       "<style scoped>\n",
       "    .dataframe tbody tr th:only-of-type {\n",
       "        vertical-align: middle;\n",
       "    }\n",
       "\n",
       "    .dataframe tbody tr th {\n",
       "        vertical-align: top;\n",
       "    }\n",
       "\n",
       "    .dataframe thead th {\n",
       "        text-align: right;\n",
       "    }\n",
       "</style>\n",
       "<table border=\"1\" class=\"dataframe\">\n",
       "  <thead>\n",
       "    <tr style=\"text-align: right;\">\n",
       "      <th></th>\n",
       "      <th>polarity</th>\n",
       "      <th>processed_review</th>\n",
       "    </tr>\n",
       "  </thead>\n",
       "  <tbody>\n",
       "    <tr>\n",
       "      <th>0</th>\n",
       "      <td>1</td>\n",
       "      <td>best soundtrack ever anything reading lot revi...</td>\n",
       "    </tr>\n",
       "    <tr>\n",
       "      <th>1</th>\n",
       "      <td>1</td>\n",
       "      <td>amazing soundtrack favorite music time hand in...</td>\n",
       "    </tr>\n",
       "    <tr>\n",
       "      <th>2</th>\n",
       "      <td>1</td>\n",
       "      <td>excellent soundtrack truly like soundtrack enj...</td>\n",
       "    </tr>\n",
       "    <tr>\n",
       "      <th>3</th>\n",
       "      <td>1</td>\n",
       "      <td>remember pull jaw floor hearing played game kn...</td>\n",
       "    </tr>\n",
       "    <tr>\n",
       "      <th>4</th>\n",
       "      <td>1</td>\n",
       "      <td>absolute masterpiece quite sure actually takin...</td>\n",
       "    </tr>\n",
       "  </tbody>\n",
       "</table>\n",
       "</div>"
      ],
      "text/plain": [
       "   polarity                                   processed_review\n",
       "0         1  best soundtrack ever anything reading lot revi...\n",
       "1         1  amazing soundtrack favorite music time hand in...\n",
       "2         1  excellent soundtrack truly like soundtrack enj...\n",
       "3         1  remember pull jaw floor hearing played game kn...\n",
       "4         1  absolute masterpiece quite sure actually takin..."
      ]
     },
     "execution_count": 39,
     "metadata": {},
     "output_type": "execute_result"
    }
   ],
   "source": [
    "#preprocess review column of both train and test datasets\n",
    "train_ds['processed_review'] = train_ds['review'].apply(preprocess)\n",
    "test_ds['processed_review'] = test_ds['review'].apply(preprocess)\n",
    "train_ds.drop('review', axis = 1, inplace = True)\n",
    "train_ds.head()"
   ]
  },
  {
   "cell_type": "code",
   "execution_count": 10,
   "id": "28eef7b7-b218-4ac5-96fb-46d2a82c84cc",
   "metadata": {},
   "outputs": [
    {
     "data": {
      "text/plain": [
       "[polarity             0\n",
       " processed_review    12\n",
       " dtype: int64,\n",
       " polarity            0\n",
       " review              0\n",
       " processed_review    1\n",
       " dtype: int64]"
      ]
     },
     "execution_count": 10,
     "metadata": {},
     "output_type": "execute_result"
    }
   ],
   "source": [
    "#check for null reviews\n",
    "[train_ds.isna().sum(), test_ds.isna().sum()]"
   ]
  },
  {
   "cell_type": "code",
   "execution_count": 11,
   "id": "2b63edf9-1f00-402a-9ad2-782c80b0d8e1",
   "metadata": {},
   "outputs": [],
   "source": [
    "#drop null records as their count is very less\n",
    "train_ds = train_ds.dropna(how='any',axis=0) \n",
    "test_ds = test_ds.dropna(how='any',axis=0) "
   ]
  },
  {
   "cell_type": "code",
   "execution_count": 12,
   "id": "ece827e3-f475-4b7c-b7b5-561f7ea0dd9c",
   "metadata": {},
   "outputs": [],
   "source": [
    "#split into features and labels\n",
    "reviews_train = train_ds['processed_review']\n",
    "y_train = train_ds['polarity'].to_numpy()\n",
    "reviews_test = test_ds['processed_review']\n",
    "org_review_test = test_ds['review']\n",
    "y_test = test_ds['polarity'].to_numpy()"
   ]
  },
  {
   "cell_type": "code",
   "execution_count": 13,
   "id": "3d746cd0-ca72-4edd-b405-60d44a786f8d",
   "metadata": {},
   "outputs": [
    {
     "data": {
      "text/plain": [
       "array([50.00008333, 49.99991667])"
      ]
     },
     "execution_count": 13,
     "metadata": {},
     "output_type": "execute_result"
    }
   ],
   "source": [
    "#check distribution of polarity classes\n",
    "np.bincount(y_train)*100.0/len(y_train)"
   ]
  },
  {
   "cell_type": "code",
   "execution_count": 14,
   "id": "4274b82b-11b2-4687-bc03-84ebcc1db9eb",
   "metadata": {},
   "outputs": [
    {
     "data": {
      "text/plain": [
       "array([50.000125, 49.999875])"
      ]
     },
     "execution_count": 14,
     "metadata": {},
     "output_type": "execute_result"
    }
   ],
   "source": [
    "np.bincount(y_test)*100.0/len(y_test)"
   ]
  },
  {
   "cell_type": "code",
   "execution_count": 15,
   "id": "a03ab758-0214-43a8-96b8-a23b20377dbd",
   "metadata": {},
   "outputs": [],
   "source": [
    "#counting sequence lengths and storing 95th percentile\n",
    "length_train = [len(sentence.split()) for sentence in reviews_train]\n",
    "length_test = [len(sentence.split()) for sentence in reviews_test]\n",
    "max_l_train = np.percentile(length_train, 95)\n",
    "max_l_test = np.percentile(length_test, 95)"
   ]
  },
  {
   "cell_type": "code",
   "execution_count": 16,
   "id": "ddc8f774-03f9-4a23-9a14-294d9c2ebdf8",
   "metadata": {},
   "outputs": [],
   "source": [
    "#helper function to truncate strings\n",
    "def truncate(data, max_length):\n",
    "    new_data = []\n",
    "    for sentence in data:\n",
    "        n_tokens = sentence.split()[:max_length]\n",
    "        new_data.append(' '.join(n_tokens))\n",
    "        \n",
    "    return new_data"
   ]
  },
  {
   "cell_type": "code",
   "execution_count": 17,
   "id": "cb484de9-5dac-4a49-ade5-6a501c9594cf",
   "metadata": {},
   "outputs": [],
   "source": [
    "#truncate the reviews\n",
    "reviews_train = truncate(reviews_train, int(max_l_train))\n",
    "reviews_test = truncate(reviews_test, int(max_l_test))"
   ]
  },
  {
   "cell_type": "code",
   "execution_count": 18,
   "id": "47556e7e-ef1a-45e9-be68-899339fa4915",
   "metadata": {},
   "outputs": [],
   "source": [
    "#load pretrained model\n",
    "vec_model = api.load(\"glove-wiki-gigaword-200\")"
   ]
  },
  {
   "cell_type": "code",
   "execution_count": 20,
   "id": "a894fac8-47fa-473f-81a7-6735096a520b",
   "metadata": {},
   "outputs": [],
   "source": [
    "#helper function to convert words into embedded tensors\n",
    "def embed(sentence):\n",
    "    tokens = sentence.split()\n",
    "    embedding = []\n",
    "    for token in tokens:\n",
    "        if token in vec_model:\n",
    "            embedding.append(vec_model[token])\n",
    "        else:\n",
    "            embedding.append(np.zeros(200))\n",
    "            \n",
    "    return torch.Tensor(np.array(embedding))\n",
    "\n",
    "#helper function to pad and collate tensors\n",
    "def pad_collate(batch):\n",
    "    xx, yy = zip(*batch)\n",
    "    yy = torch.stack(list(yy), dim = 0).reshape([len(xx), 1])\n",
    "    x_lens = [len(x) for x in xx]\n",
    "    xx_padded = pad_sequence(xx, batch_first = True)\n",
    "    return xx_padded, yy, x_lens"
   ]
  },
  {
   "cell_type": "code",
   "execution_count": 21,
   "id": "8a3d9a11-ee08-4d63-9ae9-9965e20cc545",
   "metadata": {},
   "outputs": [],
   "source": [
    "#create custom datasets and dataloader\n",
    "class ReviewData_Train(Dataset):\n",
    "    def __init__(self):\n",
    "        self.X = reviews_train\n",
    "        self.Y = torch.Tensor(y_train)\n",
    "    def __getitem__(self, index):\n",
    "        X_embedded = embed(self.X[index])\n",
    "        return X_embedded, self.Y[index]\n",
    "    def __len__(self):\n",
    "        return len(self.Y)\n",
    "\n",
    "class ReviewData_Test(Dataset):\n",
    "    def __init__(self):\n",
    "        self.X = reviews_test\n",
    "        self.Y = torch.Tensor(y_test)\n",
    "    def __getitem__(self, index):\n",
    "        X_embedded = embed(self.X[index])\n",
    "        return X_embedded, self.Y[index]\n",
    "    def __len__(self):\n",
    "        return len(self.Y)\n",
    "\n",
    "ds_train = ReviewData_Train()\n",
    "ds_test = ReviewData_Test()\n",
    "dl_train = DataLoader(dataset = ds_train, batch_size = 256, shuffle = True, collate_fn = pad_collate, pin_memory = True)\n",
    "dl_test = DataLoader(dataset = ds_test, batch_size = 256, shuffle = False, collate_fn = pad_collate, pin_memory = True)"
   ]
  },
  {
   "cell_type": "code",
   "execution_count": 22,
   "id": "3f607174-0f15-4f6d-ac9e-600efec10ccc",
   "metadata": {},
   "outputs": [
    {
     "data": {
      "text/plain": [
       "True"
      ]
     },
     "execution_count": 22,
     "metadata": {},
     "output_type": "execute_result"
    }
   ],
   "source": [
    "#check for cuda\n",
    "torch.cuda.is_available()"
   ]
  },
  {
   "cell_type": "code",
   "execution_count": 23,
   "id": "1fde21eb-6833-4581-9730-dc9f980d950c",
   "metadata": {},
   "outputs": [],
   "source": [
    "#rnn model\n",
    "class RNN(nn.Module):\n",
    "    def __init__(self):\n",
    "        super().__init__()\n",
    "        self.rnn = nn.RNN(200, 32, batch_first = True)\n",
    "        self.dense = nn.Linear(32, 1)\n",
    "    def forward(self, input):\n",
    "        output_packed, hidden = self.rnn(input)\n",
    "        output_padded, output_lengths = pad_packed_sequence(output_packed, batch_first=True)\n",
    "        out = output_padded[range(len(output_padded)), output_lengths - 1]\n",
    "        out = self.dense(out)\n",
    "        return out\n",
    "\n",
    "#lstm model\n",
    "class LSTM(nn.Module):\n",
    "    def __init__(self):\n",
    "        super().__init__()\n",
    "        self.lstm = nn.LSTM(200, 32, batch_first = True)\n",
    "        self.dense = nn.Linear(32, 1)\n",
    "    def forward(self, input):\n",
    "        output_packed, hidden = self.lstm(input)\n",
    "        output_padded, output_lengths = pad_packed_sequence(output_packed, batch_first=True)\n",
    "        out = output_padded[range(len(output_padded)), output_lengths - 1]\n",
    "        out = self.dense(out)\n",
    "        return out\n",
    "\n",
    "#loss function\n",
    "loss_fn = nn.BCEWithLogitsLoss()"
   ]
  },
  {
   "cell_type": "code",
   "execution_count": 24,
   "id": "9a513444-6560-47f4-b98d-2981df32bef4",
   "metadata": {},
   "outputs": [
    {
     "name": "stdout",
     "output_type": "stream",
     "text": [
      "epoch: 0, loss = 0.558148615188859\n",
      "epoch: 1, loss = 0.5262841594928717\n",
      "epoch: 2, loss = 0.516610146416528\n",
      "epoch: 3, loss = 0.5071790470008379\n",
      "epoch: 4, loss = 0.49366453635203483\n",
      "epoch: 5, loss = 0.4894196973186566\n",
      "epoch: 6, loss = 0.488786811724942\n",
      "epoch: 7, loss = 0.4817232753765462\n",
      "epoch: 8, loss = 0.49712421191473616\n",
      "epoch: 9, loss = 0.4710409746208698\n"
     ]
    }
   ],
   "source": [
    "#model and optimizer\n",
    "model1 = RNN().to('cuda')\n",
    "optimizer = torch.optim.Adam(model1.parameters())\n",
    "\n",
    "for epoch in range(10):\n",
    "        total_loss = 0\n",
    "    for xx_padded, yy, x_lens in dl_train:\n",
    "        #pack batch sequences\n",
    "        xx_packed = pack_padded_sequence(xx_padded, x_lens, batch_first = True, enforce_sorted = False).to('cuda')\n",
    "        yy = yy.to('cuda')\n",
    "        \n",
    "        #forward propogtion\n",
    "        output = model1(xx_packed)\n",
    "        loss = loss_fn(output, yy)\n",
    "\n",
    "        #backpropogration\n",
    "        optimizer.zero_grad()\n",
    "        loss.backward()\n",
    "        optimizer.step()\n",
    "\n",
    "        #loss calculation\n",
    "        total_loss += loss.item()\n",
    "    avg_loss = total_loss/len(dl_train)\n",
    "    print(f'epoch: {epoch}, loss = {avg_loss}')"
   ]
  },
  {
   "cell_type": "code",
   "execution_count": 26,
   "id": "73b0d7dc-7f07-47e2-9a9b-b3016dc81f12",
   "metadata": {},
   "outputs": [
    {
     "name": "stdout",
     "output_type": "stream",
     "text": [
      "              precision    recall  f1-score   support\n",
      "\n",
      "           0       0.79      0.76      0.78    200000\n",
      "           1       0.77      0.80      0.78    199999\n",
      "\n",
      "    accuracy                           0.78    399999\n",
      "   macro avg       0.78      0.78      0.78    399999\n",
      "weighted avg       0.78      0.78      0.78    399999\n",
      "\n"
     ]
    }
   ],
   "source": [
    "#evaluate\n",
    "with torch.no_grad():\n",
    "    predictions = []\n",
    "    for xx_padded, yy, x_lens in dl_test:\n",
    "        xx_packed = pack_padded_sequence(xx_padded, x_lens, batch_first = True, enforce_sorted = False).to('cuda')\n",
    "        yy = yy.to('cuda')\n",
    "        output = model1(xx_packed)\n",
    "        probs = torch.sigmoid(output)\n",
    "        probs[probs >= 0.5] = 1\n",
    "        probs[probs < 0.5] = 0\n",
    "        predictions = predictions + list(probs.cpu().numpy())\n",
    "    print(classification_report(y_test, predictions))\n",
    "    cm = confusion_matrix(y_test, predictions)\n",
    "        "
   ]
  },
  {
   "cell_type": "code",
   "execution_count": 27,
   "id": "186b8f17-6c01-499e-9836-a552f6264dcf",
   "metadata": {},
   "outputs": [
    {
     "data": {
      "image/png": "[encoded data removed]",
      "text/plain": [
       "<Figure size 640x480 with 2 Axes>"
      ]
     },
     "metadata": {},
     "output_type": "display_data"
    }
   ],
   "source": [
    "cm_display = ConfusionMatrixDisplay(confusion_matrix = cm, display_labels = [0, 1])\n",
    "cm_display.plot()\n",
    "plt.show()"
   ]
  },
  {
   "cell_type": "code",
   "execution_count": 107,
   "id": "ac83bb4c-e392-4c33-b536-8659b1a560b0",
   "metadata": {},
   "outputs": [
    {
     "data": {
      "text/html": [
       "<div>\n",
       "<style scoped>\n",
       "    .dataframe tbody tr th:only-of-type {\n",
       "        vertical-align: middle;\n",
       "    }\n",
       "\n",
       "    .dataframe tbody tr th {\n",
       "        vertical-align: top;\n",
       "    }\n",
       "\n",
       "    .dataframe thead th {\n",
       "        text-align: right;\n",
       "    }\n",
       "</style>\n",
       "<table border=\"1\" class=\"dataframe\">\n",
       "  <thead>\n",
       "    <tr style=\"text-align: right;\">\n",
       "      <th></th>\n",
       "      <th>polarity</th>\n",
       "      <th>review</th>\n",
       "      <th>processed_review</th>\n",
       "    </tr>\n",
       "  </thead>\n",
       "  <tbody>\n",
       "    <tr>\n",
       "      <th>42705</th>\n",
       "      <td>1</td>\n",
       "      <td>Fitting the Music to the Mood. Xiu Xiu are one...</td>\n",
       "      <td>fitting music mood xiu xiu one inventive imagi...</td>\n",
       "    </tr>\n",
       "    <tr>\n",
       "      <th>104526</th>\n",
       "      <td>0</td>\n",
       "      <td>Good looks but shabby quality. I was really ex...</td>\n",
       "      <td>good look shabby quality really excited receiv...</td>\n",
       "    </tr>\n",
       "    <tr>\n",
       "      <th>75219</th>\n",
       "      <td>1</td>\n",
       "      <td>Neglected masterpiece. Back when bands were so...</td>\n",
       "      <td>neglected masterpiece back band somehow able m...</td>\n",
       "    </tr>\n",
       "    <tr>\n",
       "      <th>363759</th>\n",
       "      <td>0</td>\n",
       "      <td>Tall Pasta Canister. Just too flimsy for my us...</td>\n",
       "      <td>tall pasta canister flimsy use heat sensitive ...</td>\n",
       "    </tr>\n",
       "    <tr>\n",
       "      <th>149386</th>\n",
       "      <td>1</td>\n",
       "      <td>Inspirational Christian Rock with catchy beat ...</td>\n",
       "      <td>inspirational christian rock catchy beat throu...</td>\n",
       "    </tr>\n",
       "  </tbody>\n",
       "</table>\n",
       "</div>"
      ],
      "text/plain": [
       "        polarity                                             review  \\\n",
       "42705          1  Fitting the Music to the Mood. Xiu Xiu are one...   \n",
       "104526         0  Good looks but shabby quality. I was really ex...   \n",
       "75219          1  Neglected masterpiece. Back when bands were so...   \n",
       "363759         0  Tall Pasta Canister. Just too flimsy for my us...   \n",
       "149386         1  Inspirational Christian Rock with catchy beat ...   \n",
       "\n",
       "                                         processed_review  \n",
       "42705   fitting music mood xiu xiu one inventive imagi...  \n",
       "104526  good look shabby quality really excited receiv...  \n",
       "75219   neglected masterpiece back band somehow able m...  \n",
       "363759  tall pasta canister flimsy use heat sensitive ...  \n",
       "149386  inspirational christian rock catchy beat throu...  "
      ]
     },
     "execution_count": 107,
     "metadata": {},
     "output_type": "execute_result"
    }
   ],
   "source": [
    "#analyze errors\n",
    "sample = test_ds[test_ds['polarity'] != np.array(predictions).reshape(len(y_test),)].sample(5)\n",
    "sample"
   ]
  },
  {
   "cell_type": "code",
   "execution_count": 108,
   "id": "bbe96691-4b8d-44db-a766-b7e0df185e80",
   "metadata": {},
   "outputs": [
    {
     "data": {
      "text/plain": [
       "['Fitting the Music to the Mood. Xiu Xiu are one of the most inventive and imaginative bands out there right now. Their music evokes dark imaginary in my mind when I listen to it. Personally, A Promise is my favorite album by them, but I would recommend any. If you are reading a review for Xiu Xiu then you are on the right track and you should by this album. A side note: I had the pleasure to see Xiu Xiu play last weekend in my town of Missoula, Montana.. Unfortunately, their van was broken into late in the night and their equipment was stolen. They have cancelled their tour. Hopefully, their instruments will surface. By this disc and support real musical genius.',\n",
       " 'Good looks but shabby quality. I was really excited to receive this pair of gorgeous sandals, but upon a few hours of wearing them, the links broke! Needless to say, I had to return them - very reluctantly.',\n",
       " 'Neglected masterpiece. Back when bands were somehow able to make live recordings full of surprises, excitement, and occasional group improvisation, this one is a diamond in the rough. I\\'ve owned the vinyl for well nigh 25 years now, and the utterly unadorned sounds of the guitar, the bass, the drums, plus the howling voice of Paul Rodgers - why, it\\'s primal blues rock at its sparest ... and most devastating. Andy Fraser\\'s bass lines are lithe and kinetic. Paul Kossoff wrenches notes from the neck of his Les Paul in a style that still sets him apart from all who have followed. He left us far too soon. Only complaint is the haphazard rendition of \"All Right Now\" - (they were probably sick of it by then).',\n",
       " \"Tall Pasta Canister. Just too flimsy for my use.Very heat sensitive. If you set it near the stove it will melt in a flash.Other products from the same maker suffer the same tragedy. Large canisters are easily crushed when picked up with heavy foods in them.I have only one item left from the set. I store very lightweight biscuit cutters in it.I've gone back to using re-purposed PVC containers that deli salads, pickles, etc. originally came in.\",\n",
       " \"Inspirational Christian Rock with catchy beat throughout. I like this CD because it is uplifting and has lots of hooks to hold the listener's attention. It reminds me of the Beatles with a little bit of The Smithereens thrown in for good measure. Yet it doesn't stray from it's christian message. It's too bad you can't buy it anymore - they ought to re-release it. Try to pick a copy up at your local used CD store.\"]"
      ]
     },
     "execution_count": 108,
     "metadata": {},
     "output_type": "execute_result"
    }
   ],
   "source": [
    "list(sample['review'])"
   ]
  },
  {
   "cell_type": "code",
   "execution_count": 62,
   "id": "aa25f717-8090-4fc3-8130-e7b949b563c9",
   "metadata": {},
   "outputs": [],
   "source": [
    "#recalculate lengths are truncating\n",
    "length_test = [len(sentence.split()) for sentence in reviews_test]"
   ]
  },
  {
   "cell_type": "code",
   "execution_count": 114,
   "id": "e330d41f-eca3-4fb6-a52c-1326154740d7",
   "metadata": {},
   "outputs": [
    {
     "data": {
      "text/html": [
       "<div>\n",
       "<style scoped>\n",
       "    .dataframe tbody tr th:only-of-type {\n",
       "        vertical-align: middle;\n",
       "    }\n",
       "\n",
       "    .dataframe tbody tr th {\n",
       "        vertical-align: top;\n",
       "    }\n",
       "\n",
       "    .dataframe thead th {\n",
       "        text-align: right;\n",
       "    }\n",
       "</style>\n",
       "<table border=\"1\" class=\"dataframe\">\n",
       "  <thead>\n",
       "    <tr style=\"text-align: right;\">\n",
       "      <th></th>\n",
       "      <th>polarity</th>\n",
       "      <th>review</th>\n",
       "      <th>processed_review</th>\n",
       "    </tr>\n",
       "  </thead>\n",
       "  <tbody>\n",
       "    <tr>\n",
       "      <th>17196</th>\n",
       "      <td>0</td>\n",
       "      <td>Not as I imagined!. These slipper were very bu...</td>\n",
       "      <td>imagined slipper bulky cloddy smell lavender p...</td>\n",
       "    </tr>\n",
       "    <tr>\n",
       "      <th>26757</th>\n",
       "      <td>1</td>\n",
       "      <td>what it says it is. basic but what i wanted wh...</td>\n",
       "      <td>say basic wanted say basic wanted nice</td>\n",
       "    </tr>\n",
       "    <tr>\n",
       "      <th>325161</th>\n",
       "      <td>0</td>\n",
       "      <td>NOT what you see. I ordered this product but w...</td>\n",
       "      <td>see ordered product got see picture</td>\n",
       "    </tr>\n",
       "    <tr>\n",
       "      <th>242719</th>\n",
       "      <td>1</td>\n",
       "      <td>smashing!. this is unwound at their best.if yo...</td>\n",
       "      <td>smashing unwound best album sheer perfection s...</td>\n",
       "    </tr>\n",
       "    <tr>\n",
       "      <th>240026</th>\n",
       "      <td>0</td>\n",
       "      <td>Not what I expected. They need a better produc...</td>\n",
       "      <td>expected need better product description video...</td>\n",
       "    </tr>\n",
       "  </tbody>\n",
       "</table>\n",
       "</div>"
      ],
      "text/plain": [
       "        polarity                                             review  \\\n",
       "17196          0  Not as I imagined!. These slipper were very bu...   \n",
       "26757          1  what it says it is. basic but what i wanted wh...   \n",
       "325161         0  NOT what you see. I ordered this product but w...   \n",
       "242719         1  smashing!. this is unwound at their best.if yo...   \n",
       "240026         0  Not what I expected. They need a better produc...   \n",
       "\n",
       "                                         processed_review  \n",
       "17196   imagined slipper bulky cloddy smell lavender p...  \n",
       "26757              say basic wanted say basic wanted nice  \n",
       "325161                see ordered product got see picture  \n",
       "242719  smashing unwound best album sheer perfection s...  \n",
       "240026  expected need better product description video...  "
      ]
     },
     "execution_count": 114,
     "metadata": {},
     "output_type": "execute_result"
    }
   ],
   "source": [
    "sample_short = test_ds[(y_test != np.array(predictions).reshape(len(y_test),)) & (np.array(length_test) < 8)].sample(5)\n",
    "sample_short"
   ]
  },
  {
   "cell_type": "code",
   "execution_count": 115,
   "id": "d1263364-c93f-4fd7-9f25-a50a9d602dcc",
   "metadata": {},
   "outputs": [
    {
     "data": {
      "text/plain": [
       "['Not as I imagined!. These slipper were very bulky & cloddy (?) and the smell from the lavender was not very pleasant at all.',\n",
       " 'what it says it is. basic but what i wanted what more can I say they are basic but that is what I wanted.... nice',\n",
       " 'NOT what you see. I ordered this product but when I got it it is not what you see in the picture !!!!!!',\n",
       " \"smashing!. this is unwound at their best.if you don't have this album then you don't have sheer perfection in your stereo.\",\n",
       " 'Not what I expected. They need a better product description for this video. It was not what I expected.']"
      ]
     },
     "execution_count": 115,
     "metadata": {},
     "output_type": "execute_result"
    }
   ],
   "source": [
    "list(sample_short['review'])"
   ]
  },
  {
   "cell_type": "code",
   "execution_count": 149,
   "id": "8d68bd26-6c80-4cb0-ae13-721634bd64ee",
   "metadata": {},
   "outputs": [
    {
     "data": {
      "image/png": "[encoded data removed]",
      "text/plain": [
       "<Figure size 640x480 with 1 Axes>"
      ]
     },
     "metadata": {},
     "output_type": "display_data"
    }
   ],
   "source": [
    "#calculate accuracy of model per frequency for bins of 10 sequence length\n",
    "correct_lens = np.array(length_test)[y_test == np.array(predictions).reshape(len(y_test),)]\n",
    "len_hist, _ = np.histogram(length_test, bins = range(0, ceil(np.max(length_test)/10.0)*10 + 1, 10))\n",
    "corr_hist, _ = np.histogram(correct_lens, bins = range(0, ceil(np.max(length_test)/10.0)*10 + 1, 10))\n",
    "bin_acc = corr_hist/len_hist\n",
    "\n",
    "#plot the accuracy\n",
    "plt.plot(range(0, ceil(np.max(length_test)/10.0)*10, 10), bin_acc)\n",
    "plt.xlabel('Sequence Length')\n",
    "plt.ylabel('Accuracy per Frequency')\n",
    "plt.show()"
   ]
  },
  {
   "cell_type": "code",
   "execution_count": 150,
   "id": "8ce1f2e9-5e0c-49c3-8dae-509faaa3227c",
   "metadata": {},
   "outputs": [
    {
     "name": "stdout",
     "output_type": "stream",
     "text": [
      "epoch: 0, loss = 0.2661215097246151\n",
      "epoch: 1, loss = 0.22962327116390027\n",
      "epoch: 2, loss = 0.22074733857413253\n",
      "epoch: 3, loss = 0.21574105527870502\n",
      "epoch: 4, loss = 0.21260172210849385\n",
      "epoch: 5, loss = 0.21018782163835273\n",
      "epoch: 6, loss = 0.2081706487301962\n",
      "epoch: 7, loss = 0.2066078569854229\n",
      "epoch: 8, loss = 0.20538299637287377\n",
      "epoch: 9, loss = 0.20419096145022606\n"
     ]
    }
   ],
   "source": [
    "#model and optimizer\n",
    "model2 = LSTM().to('cuda')\n",
    "optimizer = torch.optim.Adam(model2.parameters())\n",
    "\n",
    "for epoch in range(10):\n",
    "    total_loss = 0\n",
    "    for xx_padded, yy, x_lens in dl_train:\n",
    "        #pack batch sequences\n",
    "        xx_packed = pack_padded_sequence(xx_padded, x_lens, batch_first = True, enforce_sorted = False).to('cuda')\n",
    "        yy = yy.to('cuda')\n",
    "        \n",
    "        #forward propogtion\n",
    "        output = model2(xx_packed)\n",
    "        loss = loss_fn(output, yy)\n",
    "\n",
    "        #backpropogration\n",
    "        optimizer.zero_grad()\n",
    "        loss.backward()\n",
    "        optimizer.step()\n",
    "\n",
    "        #loss calculation\n",
    "        total_loss += loss.item()\n",
    "    avg_loss = total_loss/len(dl_train)\n",
    "    print(f'epoch: {epoch}, loss = {avg_loss}')"
   ]
  },
  {
   "cell_type": "code",
   "execution_count": 152,
   "id": "6d47f5da-fcae-4d86-96ef-e059fa09df55",
   "metadata": {},
   "outputs": [
    {
     "name": "stdout",
     "output_type": "stream",
     "text": [
      "              precision    recall  f1-score   support\n",
      "\n",
      "           0       0.88      0.95      0.91    200000\n",
      "           1       0.94      0.87      0.90    199999\n",
      "\n",
      "    accuracy                           0.91    399999\n",
      "   macro avg       0.91      0.91      0.91    399999\n",
      "weighted avg       0.91      0.91      0.91    399999\n",
      "\n"
     ]
    }
   ],
   "source": [
    "#evaluate\n",
    "with torch.no_grad():\n",
    "    predictions = []\n",
    "    for xx_padded, yy, x_lens in dl_test:\n",
    "        xx_packed = pack_padded_sequence(xx_padded, x_lens, batch_first = True, enforce_sorted = False).to('cuda')\n",
    "        yy = yy.to('cuda')\n",
    "        output = model2(xx_packed)\n",
    "        probs = torch.sigmoid(output)\n",
    "        probs[probs >= 0.5] = 1\n",
    "        probs[probs < 0.5] = 0\n",
    "        predictions = predictions + list(probs.cpu().numpy())\n",
    "    print(classification_report(y_test, predictions))\n",
    "    cm = confusion_matrix(y_test, predictions)"
   ]
  },
  {
   "cell_type": "code",
   "execution_count": 153,
   "id": "6e86155b-5513-43e9-b6d9-33a503bb7f8a",
   "metadata": {},
   "outputs": [
    {
     "data": {
      "image/png": "[encoded data removed]",
      "text/plain": [
       "<Figure size 640x480 with 2 Axes>"
      ]
     },
     "metadata": {},
     "output_type": "display_data"
    }
   ],
   "source": [
    "cm_display = ConfusionMatrixDisplay(confusion_matrix = cm, display_labels = [0, 1])\n",
    "cm_display.plot()\n",
    "plt.show()"
   ]
  },
  {
   "cell_type": "code",
   "execution_count": 155,
   "id": "3b8396ed-dd66-4a23-9056-29e7b4e1d471",
   "metadata": {},
   "outputs": [
    {
     "data": {
      "text/html": [
       "<div>\n",
       "<style scoped>\n",
       "    .dataframe tbody tr th:only-of-type {\n",
       "        vertical-align: middle;\n",
       "    }\n",
       "\n",
       "    .dataframe tbody tr th {\n",
       "        vertical-align: top;\n",
       "    }\n",
       "\n",
       "    .dataframe thead th {\n",
       "        text-align: right;\n",
       "    }\n",
       "</style>\n",
       "<table border=\"1\" class=\"dataframe\">\n",
       "  <thead>\n",
       "    <tr style=\"text-align: right;\">\n",
       "      <th></th>\n",
       "      <th>polarity</th>\n",
       "      <th>review</th>\n",
       "      <th>processed_review</th>\n",
       "    </tr>\n",
       "  </thead>\n",
       "  <tbody>\n",
       "    <tr>\n",
       "      <th>15314</th>\n",
       "      <td>1</td>\n",
       "      <td>Does NOT have Liszt's two-piano version of pia...</td>\n",
       "      <td>liszt two piano version piano concerto amazon ...</td>\n",
       "    </tr>\n",
       "    <tr>\n",
       "      <th>270289</th>\n",
       "      <td>1</td>\n",
       "      <td>Not bad for a Brit. It's a sad day in the US w...</td>\n",
       "      <td>bad brit sad day u go overseas find rapper rhy...</td>\n",
       "    </tr>\n",
       "    <tr>\n",
       "      <th>106490</th>\n",
       "      <td>1</td>\n",
       "      <td>It Will Put A Spell On Ya.... This is the firs...</td>\n",
       "      <td>put spell ya first angelo album bought say dov...</td>\n",
       "    </tr>\n",
       "    <tr>\n",
       "      <th>378930</th>\n",
       "      <td>0</td>\n",
       "      <td>86 Lives and Still Sleeping in a Walk in Close...</td>\n",
       "      <td>life still sleeping walk closet book state one...</td>\n",
       "    </tr>\n",
       "    <tr>\n",
       "      <th>329343</th>\n",
       "      <td>0</td>\n",
       "      <td>new album not worth dancing to.. i have seen f...</td>\n",
       "      <td>new album worth dancing seen face face time co...</td>\n",
       "    </tr>\n",
       "  </tbody>\n",
       "</table>\n",
       "</div>"
      ],
      "text/plain": [
       "        polarity                                             review  \\\n",
       "15314          1  Does NOT have Liszt's two-piano version of pia...   \n",
       "270289         1  Not bad for a Brit. It's a sad day in the US w...   \n",
       "106490         1  It Will Put A Spell On Ya.... This is the firs...   \n",
       "378930         0  86 Lives and Still Sleeping in a Walk in Close...   \n",
       "329343         0  new album not worth dancing to.. i have seen f...   \n",
       "\n",
       "                                         processed_review  \n",
       "15314   liszt two piano version piano concerto amazon ...  \n",
       "270289  bad brit sad day u go overseas find rapper rhy...  \n",
       "106490  put spell ya first angelo album bought say dov...  \n",
       "378930  life still sleeping walk closet book state one...  \n",
       "329343  new album worth dancing seen face face time co...  "
      ]
     },
     "execution_count": 155,
     "metadata": {},
     "output_type": "execute_result"
    }
   ],
   "source": [
    "#analyze errors\n",
    "sample = test_ds[test_ds['polarity'] != np.array(predictions).reshape(len(y_test),)].sample(5)\n",
    "sample"
   ]
  },
  {
   "cell_type": "code",
   "execution_count": 156,
   "id": "ee26f5a6-853b-4dba-a14b-10ca45ee42cc",
   "metadata": {},
   "outputs": [
    {
     "data": {
      "text/plain": [
       "[\"Does NOT have Liszt's two-piano version of piano concerto no. 1. The Amazon listing incorrectly shows that this CD contains S650, Liszt's two-piano version of piano concerto no. 1 It includes only the more common version S124.\",\n",
       " \"Not bad for a Brit. It's a sad day in the US when we have to go overseas to find rappers who rhyme over good beats. Not that anything on this album is mind blowing, but it's a solid effort with decent lyrics and good, soulful beats based around samples that remind you of golden age hiphop.Even though he's white, he does a convincing job rhyming about the projects. I guess in London they call them council estates. Oh, those cheeky Brits. What will they think of next?\",\n",
       " 'It Will Put A Spell On Ya.... This is the first D\\'Angelo album I\\'ve bought, and I have to say that I dove right into \"Voodoo\" with low expectations from the get-go. The other reviewers keep saying that D is mumbling and that the songs are too long. This is true... in addition to the fact that some songs are oh-so repetitive and the instruments could\\'ve been MUCH louder (check out the keyboard line on \"Feel Like Making Love\"). And the cussing/rap verses... don\\'t get me started. But what I did like about this album... is that he\\'s D\\'Angelo. The person who kicked off the whole neo-soul genre. What I did like about this album is that D is in a league of his own. He\\'s the guy that you compare every new jack to nowadays. Where do you think Musiq Soulchild got his style from. Exactly. Now if you can get past that... sit back, close your eyes and let the record play straight through.',\n",
       " '86 Lives and Still Sleeping in a Walk in Closet. This book states that one can only get close to God and be accepted by him thru accumulated wisdom (from the Masters). We keep getting sent back to earth until we collect this wisdom.The worlds oldest and still best selling book says the opposite. Jesus stands at the door and knocks, i.e. in this one and only life. To those who: 1. Hear His voice and 2. Open the door; I will come in and sup with them and they with Me.If this lady can recite 86 lives she has already lived and is still sleeping in a walkin closet and all screwed up, then golly, I sure want to believe in this \"tread mill of the masters.\"',\n",
       " 'new album not worth dancing to.. i have seen face to face more times than i can count and each time i loved them and they put on a great show. i didn\\'t think there was a face to face song that i didn\\'t like and everyone was special in its own way. when ever i felt down i would listen to them and it would pick me right back up and make me want to dance. \"ignorance is bliss\" is just to slow. i love the melodies but it sounds good with fast music. the new album is just slow dramatic, nothing like i expected. i am just afraid to see them now because i won\\'t be able to dance to the new stuff. they need to go back to the \"don\\'t turn away\" days and stay true to their fans istead of trying to reach the mainstream with their new album.']"
      ]
     },
     "execution_count": 156,
     "metadata": {},
     "output_type": "execute_result"
    }
   ],
   "source": [
    "list(sample['review'])"
   ]
  },
  {
   "cell_type": "code",
   "execution_count": 157,
   "id": "2eea0c0f-5180-488a-8ddc-578f74f46fa7",
   "metadata": {},
   "outputs": [
    {
     "data": {
      "text/html": [
       "<div>\n",
       "<style scoped>\n",
       "    .dataframe tbody tr th:only-of-type {\n",
       "        vertical-align: middle;\n",
       "    }\n",
       "\n",
       "    .dataframe tbody tr th {\n",
       "        vertical-align: top;\n",
       "    }\n",
       "\n",
       "    .dataframe thead th {\n",
       "        text-align: right;\n",
       "    }\n",
       "</style>\n",
       "<table border=\"1\" class=\"dataframe\">\n",
       "  <thead>\n",
       "    <tr style=\"text-align: right;\">\n",
       "      <th></th>\n",
       "      <th>polarity</th>\n",
       "      <th>review</th>\n",
       "      <th>processed_review</th>\n",
       "    </tr>\n",
       "  </thead>\n",
       "  <tbody>\n",
       "    <tr>\n",
       "      <th>394679</th>\n",
       "      <td>0</td>\n",
       "      <td>.... This is not a vary good book. There are m...</td>\n",
       "      <td>vary good book informitive book one</td>\n",
       "    </tr>\n",
       "    <tr>\n",
       "      <th>373604</th>\n",
       "      <td>0</td>\n",
       "      <td>Debi. It works just as well as all of those di...</td>\n",
       "      <td>debi work well diet pill word work</td>\n",
       "    </tr>\n",
       "    <tr>\n",
       "      <th>91817</th>\n",
       "      <td>0</td>\n",
       "      <td>not happy. it's an demo and some of the show w...</td>\n",
       "      <td>happy demo show good would rate</td>\n",
       "    </tr>\n",
       "    <tr>\n",
       "      <th>111530</th>\n",
       "      <td>1</td>\n",
       "      <td>This book is not out of print. Call 1-800-777-...</td>\n",
       "      <td>book print call book second printing well</td>\n",
       "    </tr>\n",
       "    <tr>\n",
       "      <th>168895</th>\n",
       "      <td>0</td>\n",
       "      <td>Not his best. This book is not what it is hype...</td>\n",
       "      <td>best book hyped informative thought would</td>\n",
       "    </tr>\n",
       "  </tbody>\n",
       "</table>\n",
       "</div>"
      ],
      "text/plain": [
       "        polarity                                             review  \\\n",
       "394679         0  .... This is not a vary good book. There are m...   \n",
       "373604         0  Debi. It works just as well as all of those di...   \n",
       "91817          0  not happy. it's an demo and some of the show w...   \n",
       "111530         1  This book is not out of print. Call 1-800-777-...   \n",
       "168895         0  Not his best. This book is not what it is hype...   \n",
       "\n",
       "                                 processed_review  \n",
       "394679        vary good book informitive book one  \n",
       "373604         debi work well diet pill word work  \n",
       "91817             happy demo show good would rate  \n",
       "111530  book print call book second printing well  \n",
       "168895  best book hyped informative thought would  "
      ]
     },
     "execution_count": 157,
     "metadata": {},
     "output_type": "execute_result"
    }
   ],
   "source": [
    "sample_short = test_ds[(y_test != np.array(predictions).reshape(len(y_test),)) & (np.array(length_test) < 8)].sample(5)\n",
    "sample_short"
   ]
  },
  {
   "cell_type": "code",
   "execution_count": 158,
   "id": "625d6ba1-a015-4497-9303-fabfcc46adbb",
   "metadata": {},
   "outputs": [
    {
     "data": {
      "text/plain": [
       "['.... This is not a vary good book. There are more informitive books out there. And this is not one of them.',\n",
       " 'Debi. It works just as well as all of those diet pills out there. In other words, it does not work at all.',\n",
       " \"not happy. it's an demo and some of the show was off. but it's was good. but wouldn't rate it at all.\",\n",
       " 'This book is not out of print. Call 1-800-777-2295. The book is now in its second printing and doing well!',\n",
       " 'Not his best. This book is not what it is hyped to be, Not very informative and not what I thought it would be.']"
      ]
     },
     "execution_count": 158,
     "metadata": {},
     "output_type": "execute_result"
    }
   ],
   "source": [
    "list(sample_short['review'])"
   ]
  },
  {
   "cell_type": "code",
   "execution_count": 159,
   "id": "f1b3a097-d398-4a6b-9d87-cf5ea790efc2",
   "metadata": {},
   "outputs": [
    {
     "data": {
      "image/png": "[encoded data removed]",
      "text/plain": [
       "<Figure size 640x480 with 1 Axes>"
      ]
     },
     "metadata": {},
     "output_type": "display_data"
    }
   ],
   "source": [
    "#calculate accuracy of model per frequency for bins of 10 sequence length\n",
    "correct_lens = np.array(length_test)[y_test == np.array(predictions).reshape(len(y_test),)]\n",
    "len_hist, _ = np.histogram(length_test, bins = range(0, ceil(np.max(length_test)/10.0)*10 + 1, 10))\n",
    "corr_hist, _ = np.histogram(correct_lens, bins = range(0, ceil(np.max(length_test)/10.0)*10 + 1, 10))\n",
    "bin_acc = corr_hist/len_hist\n",
    "\n",
    "#plot the accuracy\n",
    "plt.plot(range(0, ceil(np.max(length_test)/10.0)*10, 10), bin_acc)\n",
    "plt.xlabel('Sequence Length')\n",
    "plt.ylabel('Accuracy per Frequency')\n",
    "plt.show()"
   ]
  }
 ],
 "metadata": {
  "kernelspec": {
   "display_name": "Python 3 (ipykernel)",
   "language": "python",
   "name": "python3"
  },
  "language_info": {
   "codemirror_mode": {
    "name": "ipython",
    "version": 3
   },
   "file_extension": ".py",
   "mimetype": "text/x-python",
   "name": "python",
   "nbconvert_exporter": "python",
   "pygments_lexer": "ipython3",
   "version": "3.11.13"
  }
 },
 "nbformat": 4,
 "nbformat_minor": 5
}
